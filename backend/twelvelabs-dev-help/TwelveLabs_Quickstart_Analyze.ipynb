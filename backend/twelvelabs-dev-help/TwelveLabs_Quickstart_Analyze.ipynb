{
 "cells": [
  {
   "cell_type": "markdown",
   "metadata": {
    "id": "LcFAkSKdxM-T"
   },
   "source": [
    "<table align=\"left\">\n",
    "  <td>\n",
    "    <a target=\"_blank\" href=\"https://colab.research.google.com/github/twelvelabs-io/twelvelabs-developer-experience/blob/main/quickstarts/TwelveLabs_Quickstart_Analyze.ipynb\"><img src=\"https://www.tensorflow.org/images/colab_logo_32px.png\" />Run in  Colab</a>\n",
    "  </td>\n",
    "</table>"
   ]
  },
  {
   "cell_type": "markdown",
   "metadata": {
    "id": "VmpYRcFNT30r"
   },
   "source": [
    "# Analyze videos\n",
    "This guide shows how to utilize the TwelveLabs Python SDK to analyze videos and generate text based on their content.\n",
    "\n",
    "Note that the Analyze API suite offers three distinct endpoints tailored to meet various requirements. Each endpoint has been designed with specific levels of flexibility and customization to accommodate different needs.\n",
    "\n",
    "- `/gist`: Generates titles, topics, and hashtags.\n",
    "- `/summarize`: Generates summaries, chapters, and highlights.\n",
    "- `/analyze`: Generates open-ended texts.\n",
    "\n",
    "For details, see the [Analyze videos](https://docs.twelvelabs.io/docs/guides/analyze-videos) page."
   ]
  },
  {
   "cell_type": "markdown",
   "metadata": {},
   "source": [
    "# Prerequisites\n",
    "Before you begin, ensure the following prerequisites are met:\n",
    "\n",
    "- [Sign up](https://playground.twelvelabs.io/) for a free account and obtain your API key from the [API Key](https://playground.twelvelabs.io/dashboard/api-key) page. No credit card is required to use the Free plan. This plan allows you to index up to 600 minutes of videos, which is sufficient for a small project. \n",
    "- The videos you wish to upload must meet the requirements in the [Prerequisites](https://docs.twelvelabs.io/v1.3/docs/guides/generate-text-from-video/summaries-chapters-and-highlights#prerequisites) section of the **Summaries, chapters, and highlights** page.\n",
    "\n"
   ]
  },
  {
   "cell_type": "markdown",
   "metadata": {},
   "source": [
    "# Procedure"
   ]
  },
  {
   "cell_type": "markdown",
   "metadata": {},
   "source": [
    "## Install the TwelveLabs Python SDK"
   ]
  },
  {
   "cell_type": "code",
   "execution_count": 2,
   "metadata": {},
   "outputs": [
    {
     "name": "stdout",
     "output_type": "stream",
     "text": [
      "\n",
      "\u001b[1m[\u001b[0m\u001b[34;49mnotice\u001b[0m\u001b[1;39;49m]\u001b[0m\u001b[39;49m A new release of pip is available: \u001b[0m\u001b[31;49m23.0.1\u001b[0m\u001b[39;49m -> \u001b[0m\u001b[32;49m25.0.1\u001b[0m\n",
      "\u001b[1m[\u001b[0m\u001b[34;49mnotice\u001b[0m\u001b[1;39;49m]\u001b[0m\u001b[39;49m To update, run: \u001b[0m\u001b[32;49mpip install --upgrade pip\u001b[0m\n",
      "Note: you may need to restart the kernel to use updated packages.\n"
     ]
    }
   ],
   "source": [
    "%pip install -U -q twelvelabs"
   ]
  },
  {
   "cell_type": "markdown",
   "metadata": {},
   "source": [
    "## Import the required packages"
   ]
  },
  {
   "cell_type": "code",
   "execution_count": 3,
   "metadata": {},
   "outputs": [],
   "source": [
    "import os\n",
    "from glob import glob\n",
    "from twelvelabs import TwelveLabs\n",
    "from twelvelabs.models.task import Task"
   ]
  },
  {
   "cell_type": "markdown",
   "metadata": {},
   "source": [
    "## Configure your API key\n"
   ]
  },
  {
   "cell_type": "code",
   "execution_count": null,
   "metadata": {},
   "outputs": [],
   "source": [
    "# For Google Colab, store your API key as a Secret named `TL_API_KEY`. If you don't know how to create a Colab Secret, see https://medium.com/@parthdasawant/how-to-use-secrets-in-google-colab-450c38e3ec75.\n",
    "\n",
    "from google.colab import userdata\n",
    "TL_API_KEY = userdata.get('TL_API_KEY')\n",
    "\n",
    "# For other Python environments, you can use environment variables\n",
    "# TL_API_KEY = os.environ.get('TL_API_KEY')"
   ]
  },
  {
   "cell_type": "markdown",
   "metadata": {},
   "source": [
    "## Create an index\n",
    "\n",
    "An index is a basic unit for organizing and storing video data consisting of video embeddings and metadata. Indexes facilitate information retrieval and processing.\n",
    "\n",
    "When creating a new index, you must specify at least the following information:\n",
    "- **Name**: Use a brief and descriptive name to facilitate future reference and management.\n",
    "- **Model configuration**: Provide a list containing the video understanding models and the associated model options you want to enable.\n",
    "\n",
    "TwelveLabs provides two distinct model types:\n",
    "\n",
    "- **Embedding models (Marengo)**: This model performs tasks such as search and embedding generation , enabling enhanced video understanding.\n",
    "- **Generative models (Pegasus)**: This model generates text based on your videos.\n",
    "\n",
    "Model options determine what information the video understanding model will process:\n",
    "- **visual**: Analyzes visual content, including actions, objects, events, text (OCR), and brand logos.\n",
    "- **audio**: Analyzes audio content, including ambient sounds and human speech."
   ]
  },
  {
   "cell_type": "code",
   "execution_count": 5,
   "metadata": {},
   "outputs": [
    {
     "name": "stdout",
     "output_type": "stream",
     "text": [
      "Created index: id=67c83c399d39a8522d595938 name=Temp-2 models=root=[Model(name='pegasus1.2', options=['visual', 'audio'], addons=None, finetuned=False)]\n"
     ]
    }
   ],
   "source": [
    "client = TwelveLabs(api_key=TL_API_KEY)\n",
    "\n",
    "index = client.index.create(\n",
    "    name=\"Temp-2\",\n",
    "    models=[\n",
    "        {\n",
    "            \"name\": \"pegasus1.2\",\n",
    "            \"options\": [\"visual\", \"audio\"],\n",
    "        }\n",
    "    ]\n",
    ")\n",
    "print(f\"Created index: id={index.id} name={index.name} models={index.models}\")\n"
   ]
  },
  {
   "cell_type": "markdown",
   "metadata": {},
   "source": [
    "## Upload videos to your index"
   ]
  },
  {
   "cell_type": "code",
   "execution_count": 6,
   "metadata": {},
   "outputs": [
    {
     "name": "stdout",
     "output_type": "stream",
     "text": [
      "Uploading funny-cats.mp4\n",
      "Created task: id=67c83c6dd4e0d626915c1535\n",
      "  Status=indexing\n",
      "  Status=indexing\n",
      "  Status=indexing\n",
      "  Status=indexing\n",
      "  Status=indexing\n",
      "  Status=indexing\n",
      "  Status=ready\n",
      "Uploaded funny-cats.mp4. The unique identifer of your video is 67c83c6d517c1873bbbd6c9f.\n"
     ]
    }
   ],
   "source": [
    "# The path to the directory containing the videos you wish to upload.\n",
    "VIDEO_PATH = \"funny-cats.mp4\"  # In a colab Notebook, just upload the file in the root folder and just give the filename.\n",
    "\n",
    "video_files = glob(VIDEO_PATH)\n",
    "if(len(video_files)==0):\n",
    "  raise Exception(\"Video file was not provided\")\n",
    "for video_file in video_files:\n",
    "  print(f\"Uploading {video_file}\")\n",
    "  task = client.task.create(index_id=index.id, file=video_file)\n",
    "  print(f\"Created task: id={task.id}\")\n",
    "\n",
    "  # (Optional) Monitor the video indexing process\n",
    "  # Utility function to print the status of a video indexing task\n",
    "  def on_task_update(task: Task):\n",
    "          print(f\"  Status={task.status}\")\n",
    "  task.wait_for_done(sleep_interval=50, callback=on_task_update)\n",
    "  if task.status != \"ready\":\n",
    "      raise RuntimeError(f\"Indexing failed with status {task.status}\")\n",
    "  print(f\"Uploaded {video_file}. The unique identifer of your video is {task.video_id}.\")\n"
   ]
  },
  {
   "cell_type": "markdown",
   "metadata": {
    "id": "qNhC07lCYGHg"
   },
   "source": [
    "## Analyze videos to generate text\n",
    "\n",
    "The code below iterates through all videos in your index, generating and displaying summaries, chapters, and highlights for each video. Additionally, it creates SEO keywords using a custom prompt."
   ]
  },
  {
   "cell_type": "code",
   "execution_count": null,
   "metadata": {
    "colab": {
     "base_uri": "https://localhost:8080/"
    },
    "id": "SeGb7DSpYHjT",
    "outputId": "1a63585d-a4c4-4116-f2f4-ca83527f7181"
   },
   "outputs": [
    {
     "name": "stdout",
     "output_type": "stream",
     "text": [
      "Generating text for 67c83c6d517c1873bbbd6c9f\n",
      "Summary: The video is a delightful compilation of various feline and some canine antics, capturing the essence of pet behavior in a series of short, engaging clips. It opens with a brown tabby cat standing on a wooden table, dipping its paw into a glass of water, a playful and curious scene that sets the tone for the video. The cat's behavior is followed by a Bengal cat perched inside a bathroom sink, looking around before leaping out onto the floor, showcasing the agility and confidence of these pets.\n",
      "The video then transitions to a pair of cats sitting at a window sill, one with black markings and the other without, both turning away as if startled by something outside. This is followed by a brief glimpse of two ginger cats running across a road from inside a car, adding a touch of outdoor adventure to the collection. Inside a dimly lit room, a gray cat plays with a dark-colored cat near a cardboard box, their playful interaction disappearing behind a staircase, highlighting the bond between feline companions.\n",
      "A close-up shot of a fluffy white cat being fed a treat using chopsticks is a charming moment, showing the cat's eagerness and the unique feeding method. Three kittens playing together on a checkered tiled floor, with one grey kitten atop a blue-and-white shoebox containing a white kitten, and a third grey kitten approaching to interact, brings a sense of innocence and joy. An orange and white calico cat walks towards a balcony and exits through the doorway, while a silver-striped Scottish Fold lies down on a yellow floral-patterned blanket and closes its eyes, providing a serene contrast.\n",
      "The video also includes a light-brown cat jumping off a bathtub ledge after splashing in the tub, and a large black cat climbing up a bed sheet hanging over a bed frame at night, adding a touch of mischief and curiosity. A large white Persian cat attempts to jump onto a round table but ends up knocking itself backward, a humorous moment that showcases the sometimes clumsy nature of these pets.\n",
      "A segment featuring three wet raccoons lying motionless on a deck beside pumpkins, observed by a dog standing nearby, introduces a different set of characters and adds variety to the video. A striped cat leaps from a cabinet top onto a closed closet door, causing the door to swing open slightly upon impact, another display of feline agility.\n",
      "Two tuxedo cats interact on a hardwood floor, with one rolling around playfully, and a tabby cat explores snow-covered ground near a building entrance, sniffing and digging in the snow, adding a touch of winter charm. A tan cat sleeps soundly on top of an ATM machine, and a ginger cat is seen sleeping atop a gray ATM machine outside during daylight hours, both scenes providing a glimpse into the relaxed nature of these pets.\n",
      "The video includes a tabby cat sitting inside a kitchen sink as water flows from the faucet onto its head, seemingly enjoying an unusual shower, and someone washing a white rabbit under running tap water within a beige-colored basin, showcasing the care and attention given to these animals. An orange kitten stands upright on a small wooden table outdoors near some greenery, and another object falls off the table behind it, a moment of surprise and playfulness.\n",
      "Indoors, an orange cat watches two pigs walking across a laptop screen displaying nature footage, and after observing briefly, the cat jumps down out of view, a unique interaction between pets and technology. On a sofa indoors, one dark grey cat embraces another lighter grey feline closely while lying together, a moment of affection and companionship.\n",
      "The video concludes with a variety of scenes, including a black-and-white tuxedo cat walking towards the edge of a granite countertop before jumping down, a brown and white cat rolling over repeatedly in a carpeted space, and a grey rat scurrying back and forth between a door frame and a yellow litter box. A light grey cat eating from a blue bowl, spilling bits onto the surface beneath, and a tabby cat being petted gently against a pale backdrop, with its eyes appearing half-closed initially but opening wider later, add to the collection of pet behaviors.\n",
      "Near a coffee table where a dog lies asleep, a striped cat grooms itself using its front paws, and another cat approaches and sniffs the grooming cat, after which both cats walk away together, a moment of mutual interest and interaction. A gray tabby cat stands on its hind legs inside a room while a black dog lies behind it near a table, and an orange cat sitting at the entrance to a house's back porch before getting up and walking away, provide a glimpse into the varied interactions between pets.\n",
      "Two white cats interact through the bars of a wooden gate, one hanging upside down and licking the other, and inside a dimly lit living room, two dogs sit facing each other across a coffee table as they watch television together, adding a touch of canine companionship. An orange cat reaches out towards another cat that peeks over the top edge of the sofa, and in front of a closed double-door, an orange cat repeatedly attempts to squeeze through a small rectangular opening but fails every time, showcasing the persistence and curiosity of these pets.\n",
      "Underneath some sort of outdoor structure, a black cat hangs upside-down from a horizontal bar using both paws and licks itself clean, and sitting atop a window sill indoors, a light-colored cat looks outside where someone pets it gently, providing a serene and affectionate moment. A fluffy beige kitten drinks water directly from a clear glass mug placed on a surface next to a plate, and a large round pizza rests on a floor mat within a sparsely furnished room, adding a touch of domesticity to the video.\n",
      "The video includes a black cat jumping off a bed onto the ground below, a striped cat walking between cushions on a tan couch, and a grey and white kitten chasing a toy mouse moving erratically on a parquet wood floor, showcasing the playful and energetic nature of these pets. Two kittens lie next to each other on a long bench outside against a light-colored wall, with the brown tabby kitten lying still while the grey and white kitten rolls over playfully, a moment of contrast and interaction.\n",
      "In a room with wood floors and metal chairs around round tables, a black cat jumps onto one chair's seat before leaping off as another dark-furred animal enters from behind it, and a gray tabby cat sits up straight beside a large stuffed lion head pillow on a bed covered with orange sheets, providing a glimpse into the varied environments and interactions of these pets. A black cat walks down carpeted stairs, pausing and looking back upwards briefly, and a gray parrot perches near the top edge of a blanket draped over something unseen below, interacting with a resting calico cat lying beneath the blanket, adding a touch of exoticism and companionship.\n",
      "Three cats sit atop a building ledge under bright daylight conditions, facing leftward and remaining stationary, and an orange tabby cat stands on two stacked cardboard boxes within what appears to be a garage setting before leaping forward into the open space beyond the boxes, showcasing the varied settings and behaviors of these pets. Four kittens gather inside a corner area where sunlight streams through vertical blinds casting shadows on the walls, their movements suggesting playful interaction among them, and outdoors amidst greenery, two tuxedo cats face away from the camera, walking toward some bushes, providing a glimpse into the outdoor adventures of these pets.\n",
      "Indoors, a gray cat rests on a cushion placed upon a chair, initially sleeping soundly but waking abruptly when startled by someone placing a plush bunny mask over its eyes, and inside a bathroom, a tri-color cat drinks water directly from a sink faucet that has been turned on, showcasing the varied and sometimes surprising behaviors of these pets. Outside on a balcony overlooking trees and buildings, a fluffy white Persian cat initially crouched low stretches out fully after drinking from a bowl, and indoors, a white Persian cat lays upside-down on a beige surface, moving its paws rhythmically, providing a serene and relaxed moment.\n",
      "The video concludes with a Siamese cat approaching a glass filled with liquid on a table outdoors, knocking it over causing the contents to spill, and subsequently turning to look directly at the camera, a humorous and attention-grabbing moment that leaves the viewer with a smile. Throughout the video, there are several instances of laughter and thank you messages, indicating the creator's intention to entertain and engage the audience with the charming and sometimes humorous behaviors of pets.\n",
      "Chapters:\n",
      "  chapter_number=0 chapter_title=Cat Dipping Paw in Water chapter_summary=A brown tabby cat stands on a wooden table next to a glass filled with water and dips its paw into the water multiple times. start=0.0 end=14.0\n",
      "  chapter_number=1 chapter_title=Bengal Cat in Sink chapter_summary=A Bengal cat perches inside a white sink basin in a bathroom setting, looks around, and jumps out onto the floor below. start=15.0 end=23.0\n",
      "  chapter_number=2 chapter_title=Cats at Window Sill chapter_summary=Two cats sit at a window sill looking outside. One has black markings while the other does not. They both turn away from the window as if something startled them. start=24.0 end=38.0\n",
      "  chapter_number=3 chapter_title=Ginger Cats in Car chapter_summary=Inside a car, two ginger cats run across the road towards the camera's view. In a dimly lit room, one gray cat plays with another dark-colored cat near a cardboard box placed against some stairs. start=39.0 end=53.0\n",
      "  chapter_number=4 chapter_title=White Cat Fed with Chopsticks chapter_summary=Close-up shot of a fluffy white cat being fed a treat using chopsticks. The cat opens its mouth wide to accept the food. start=54.0 end=64.0\n",
      "  chapter_number=5 chapter_title=Kittens Playing on Tiled Floor chapter_summary=Three kittens play together on a checkered tiled floor: a grey kitten sits atop a blue-and-white shoebox containing a white kitten; a third grey kitten approaches and interacts with the others. start=65.0 end=75.0\n",
      "  chapter_number=6 chapter_title=Calico Cat and Scottish Fold chapter_summary=An orange and white calico cat walks toward the open door leading to a balcony area and exits through the doorway. A silver-striped Scottish Fold lies down on a yellow floral-patterned blanket and closes its eyes. start=76.0 end=91.0\n",
      "  chapter_number=7 chapter_title=Black Cat Climbing Bed Sheet chapter_summary=A small light-brown cat jumps off a bathtub ledge after splashing in the tub. At night time, a large black cat climbs up a bed sheet hanging over the side of a bed frame. start=92.0 end=109.0\n",
      "  chapter_number=8 chapter_title=Persian Cat Attempting Jump chapter_summary=A large white Persian cat attempts to jump onto a round table but ends up knocking itself backward instead. Three wet raccoons lie motionless on a deck beside pumpkins, observed by a dog standing nearby. start=110.0 end=125.0\n",
      "  chapter_number=9 chapter_title=Striped Cat Leaping and Tuxedo Cats Playing chapter_summary=A striped cat leaps from a cabinet top onto a closed closet door, causing the door to swing open slightly upon impact. Two tuxedo cats interact on a hardwood floor, with one rolling around playfully. start=126.0 end=140.0\n",
      "  chapter_number=10 chapter_title=Tabby Cat in Snow and Tan Cat on ATM chapter_summary=A tabby cat explores snow-covered ground near a building entrance, sniffing and digging in the snow. A tan cat sleeps soundly on top of an ATM machine. start=141.0 end=152.0\n",
      "  chapter_number=11 chapter_title=Ginger Cat Sleeping on ATM chapter_summary=A ginger cat is sleeping soundly atop a gray ATM machine outside during daylight hours. The camera remains stationary. start=152.0 end=164.0\n",
      "  chapter_number=12 chapter_title=Tabby Cat in Kitchen Sink chapter_summary=In a dimly lit room at night, a tabby cat sits inside a kitchen sink as water flows from the faucet onto its head. It appears to be enjoying this unusual shower. start=165.0 end=172.0\n",
      "  chapter_number=13 chapter_title=Rabbit Washing chapter_summary=Inside what seems like a bathroom setting, someone washes a white rabbit under running tap water within a beige-colored basin. The person's hands guide the rabbit through the process. start=173.0 end=181.0\n",
      "  chapter_number=14 chapter_title=Kitten on Table chapter_summary=An orange kitten stands upright on a small wooden table outdoors near some greenery. As it looks around, another object falls off the table behind it. start=182.0 end=190.0\n",
      "  chapter_number=15 chapter_title=Cat Watching Pigs on Laptop chapter_summary=Indoors, possibly on a bed covered with blankets, an orange cat watches two pigs walking across a laptop screen displaying nature footage. After observing briefly, the cat jumps down out of view. start=191.0 end=202.0\n",
      "  chapter_number=16 chapter_title=Cats Embracing on Sofa chapter_summary=On a sofa indoors, one dark grey cat embraces another lighter grey feline closely while lying together. They remain still throughout the scene. start=203.0 end=219.0\n",
      "  chapter_number=17 chapter_title=Tuxedo Cat Jumping chapter_summary=A black-and-white tuxedo cat walks towards the edge of a granite countertop before jumping down into a carpeted area below. start=220.0 end=226.0\n",
      "  chapter_number=18 chapter_title=Brown and White Cat Rolling chapter_summary=Within a carpeted space, likely part of a house interior, a brown and white cat rolls over repeatedly several times until coming to rest. start=227.0 end=246.0\n",
      "  chapter_number=19 chapter_title=Grey Rat Scurrying chapter_summary=Behind glass doors leading to a tiled floor area, a grey rat scurries back and forth between the door frame and a yellow litter box placed nearby. start=247.0 end=253.0\n",
      "  chapter_number=20 chapter_title=Cat Eating from Blue Bowl chapter_summary=At a round dining table set against a wall adorned with framed pictures, a light grey cat eats something from a blue bowl, spilling bits onto the surface beneath. start=254.0 end=265.0\n",
      "  chapter_number=21 chapter_title=Tabby Cat Being Petted chapter_summary=Against a pale backdrop resembling bedding material, a close-up shot shows a tabby cat being petted gently. Its eyes appear half-closed initially but open wider later. start=266.0 end=286.0\n",
      "  chapter_number=22 chapter_title=Cat Grooming and Dog Sleeping chapter_summary=Near a coffee table where a dog lies asleep, a striped cat grooms itself using its front paws. Another cat approaches and sniffs the grooming cat, after which both cats walk away together. start=287.0 end=304.0\n",
      "  chapter_number=23 chapter_title=Gray Tabby Cat and Black Dog chapter_summary=A gray tabby cat stands on its hind legs inside a room while a black dog lies behind it near a table. start=304.0 end=311.0\n",
      "  chapter_number=24 chapter_title=Orange Cat on Back Porch chapter_summary=An orange cat sits at the entrance to a house's back porch before getting up and walking away from the door. start=312.0 end=323.0\n",
      "  chapter_number=25 chapter_title=White Cats Interacting Through Gate chapter_summary=Two white cats interact through the bars of a wooden gate; one is hanging upside down, licking the other which remains right side up. start=324.0 end=339.0\n",
      "  chapter_number=26 chapter_title=Dogs Watching TV chapter_summary=Inside a dimly lit living room, two dogs sit facing each other across a coffee table as they watch television together. start=340.0 end=345.0\n",
      "  chapter_number=27 chapter_title=Orange Cat on Dark Couch chapter_summary=On a dark couch, an orange cat reaches out towards another cat that peeks over the top edge of the sofa. start=346.0 end=363.0\n",
      "  chapter_number=28 chapter_title=Cat Attempting to Squeeze Through Door chapter_summary=In front of a closed double-door, an orange cat repeatedly attempts to squeeze through a small rectangular opening cut into the bottom center of the doors but fails every time. start=364.0 end=382.0\n",
      "  chapter_number=29 chapter_title=Black Cat Hanging Upside-Down chapter_summary=Underneath some sort of outdoor structure, a black cat hangs upside-down from a horizontal bar using both paws and licks itself clean. start=383.0 end=398.0\n",
      "  chapter_number=30 chapter_title=Cat on Window Sill and Beige Kitten Drinking chapter_summary=Sitting atop a window sill indoors, a light-colored cat looks outside where someone pets it gently. A fluffy beige kitten drinks water directly from a clear glass mug placed on a surface next to a plate. start=399.0 end=416.0\n",
      "  chapter_number=31 chapter_title=Large Round Pizza on Floor Mat chapter_summary=A large round pizza rests on a floor mat within a sparsely furnished room featuring a TV set against the wall. start=417.0 end=426.0\n",
      "  chapter_number=32 chapter_title=Black Cat Jumping Off Bed chapter_summary=A black cat jumps off a bed onto the ground below. start=427.0 end=435.0\n",
      "  chapter_number=33 chapter_title=Cat Moving Through Doorway chapter_summary=Through a doorway framed with tape strips, a cat can be seen moving around beyond the threshold. start=436.0 end=441.0\n",
      "  chapter_number=34 chapter_title=Striped Cat Walking Between Cushions chapter_summary=A striped cat walks between cushions on a tan couch. start=442.0 end=451.0\n",
      "  chapter_number=35 chapter_title=Kitten Chasing Toy Mouse chapter_summary=A toy mouse moves erratically on a parquet wood floor as a grey and white kitten chases after it playfully. start=452.0 end=456.0\n",
      "  chapter_number=36 chapter_title=Black Kitten Chasing Toy Mouse chapter_summary=A black kitten chases a small white toy mouse across a wooden floor towards a closed door. start=456.0 end=458.0\n",
      "  chapter_number=37 chapter_title=Kittens on Long Bench chapter_summary=Two kittens lie next to each other on a long bench outside against a light-colored wall. The brown tabby kitten lies still while the gray and white kitten rolls over playfully. start=459.0 end=461.0\n",
      "  chapter_number=38 chapter_title=Black Cat Jumping and Dark-Furred Animal Entering chapter_summary=In a room with wood floors and metal chairs around round tables, a black cat jumps onto one chair's seat before leaping off as another dark-furred animal enters from behind it. start=462.0 end=470.0\n",
      "  chapter_number=39 chapter_title=Gray Tabby Cat on Bed and Descending Stairs chapter_summary=On a bed covered with orange sheets, a gray tabby cat sits up straight beside a large stuffed lion head pillow. A black cat walks down carpeted stairs, pauses midway, looks back upwards briefly, continues descending, stops again at mid-stair level, glances upward once more, and resumes its descent. start=471.0 end=482.0\n",
      "  chapter_number=40 chapter_title=Parrot and Calico Cat Interaction chapter_summary=Against a reddish-brown backdrop resembling wood paneling, a gray parrot perches near the top edge of a blanket draped over something unseen below. It interacts with a resting calico cat lying beneath the blanket. start=483.0 end=500.0\n",
      "  chapter_number=41 chapter_title=Cats on Building Ledge chapter_summary=Three cats sit atop a building ledge under bright daylight conditions. One is positioned slightly higher than the others, all facing leftward. They remain stationary throughout this segment. start=501.0 end=525.0\n",
      "  chapter_number=42 chapter_title=Orange Tabby Cat on Cardboard Boxes chapter_summary=An orange tabby cat stands on two stacked cardboard boxes within what appears to be a garage setting. After standing momentarily, it leaps forward into the open space beyond the boxes. start=526.0 end=530.0\n",
      "  chapter_number=43 chapter_title=Kittens Playing in Corner chapter_summary=Four kittens gather inside a corner area where sunlight streams through vertical blinds casting shadows on the walls. Their movements suggest playful interaction among them. start=531.0 end=542.0\n",
      "  chapter_number=44 chapter_title=Tuxedo Cats Walking Amidst Greenery chapter_summary=Outdoors amidst greenery, two tuxedo cats face away from the camera. As they begin walking toward some bushes, the view shifts downward following their movement. start=543.0 end=548.0\n",
      "  chapter_number=45 chapter_title=Cat Waking Abruptly chapter_summary=Indoors, a gray cat rests on a cushion placed upon a chair. Initially sleeping soundly, it wakes abruptly when startled by someone placing a plush bunny mask over its eyes. start=549.0 end=561.0\n",
      "  chapter_number=46 chapter_title=Tri-Color Cat Drinking from Faucet chapter_summary=Inside a bathroom, a tri-color cat drinks water directly from a sink faucet that has been turned on. start=562.0 end=570.0\n",
      "  chapter_number=47 chapter_title=Persian Cat Stretching on Balcony chapter_summary=Outside on a balcony overlooking trees and buildings, a fluffy white Persian cat initially crouched low stretches out fully after drinking from a bowl. start=571.0 end=582.0\n",
      "  chapter_number=48 chapter_title=Persian Cat Laying Upside-Down chapter_summary=Indoors, a white Persian cat lays upside-down on a beige surface, moving its paws rhythmically. start=583.0 end=591.0\n",
      "  chapter_number=49 chapter_title=Siamese Cat Knocking Over Drink chapter_summary=A Siamese cat approaches a glass filled with liquid on a table outdoors. Upon reaching the drink, it knocks it over causing the contents to spill. Subsequently, the cat turns to look directly at the camera. start=592.0 end=604.0\n",
      "Highlights:\n",
      "  Highlight=Bengal Cat in Sink start=15.0 end=23.0\n",
      "  Highlight=White Cat Fed with Chopsticks start=54.0 end=64.0\n",
      "  Highlight=Wet Raccoons on Deck start=120.0 end=125.0\n",
      "  Highlight=Tabby Cat in Snow start=141.0 end=150.0\n",
      "  Highlight=Brown and White Cat Rolls start=227.0 end=246.0\n",
      "  Highlight=White Cats Interact Through Gate start=324.0 end=339.0\n",
      "  Highlight=Orange Cat Attempts to Squeeze Through Door start=364.0 end=382.0\n",
      "  Highlight=Cat Jumps Off Bed start=436.0 end=441.0\n",
      "  Highlight=Tuxedo Cats Walking Amidst Greenery start=543.0 end=548.0\n",
      "  Highlight=Persian Cat Stretches on Balcony start=571.0 end=582.0\n",
      "Open-ended Text: Based on the video content, five suitable keywords for SEO could be: \"cats playing\", \"cat behaviors\", \"cat activities\", \"funny cat moments\", and \"cats in everyday settings\". These keywords encompass a variety of the cats' actions and environments shown throughout the video, including their playful interactions, unique behaviors, and the diverse settings in which they are captured.\n"
     ]
    }
   ],
   "source": [
    "#Get all videos in an Index\n",
    "videos = client.index.video.list(index.id)\n",
    "for video in videos:\n",
    "    print(f\"Generating text for {video.id}\")\n",
    "\n",
    "    res = client.summarize(video_id=video.id, type=\"summary\")\n",
    "    print(f\"Summary: {res.summary}\")\n",
    "\n",
    "    print(\"Chapters:\")\n",
    "    res = client.summarize(video_id=video.id, type=\"chapter\")\n",
    "    for chapter in res.chapters:\n",
    "        print(\n",
    "            f\"  chapter_number={chapter.chapter_number} chapter_title={chapter.chapter_title} chapter_summary={chapter.chapter_summary} start={chapter.start} end={chapter.end}\"\n",
    "        )\n",
    "\n",
    "    print(\"Highlights:\")\n",
    "    res = client.summarize(video_id=video.id, type=\"highlight\")\n",
    "    for highlight in res.highlights:\n",
    "        print(\n",
    "            f\"  Highlight={highlight.highlight} start={highlight.start} end={highlight.end}\"\n",
    "        )\n",
    "\n",
    "    res = client.analyze(video_id=video.id, prompt=\"Based on this video, I want to generate five keywords for SEO (Search Engine Optimization).\")\n",
    "    print(f\"Open-ended Text: {res.data}\")"
   ]
  }
 ],
 "metadata": {
  "colab": {
   "provenance": []
  },
  "kernelspec": {
   "display_name": "3.10.13",
   "language": "python",
   "name": "python3"
  },
  "language_info": {
   "codemirror_mode": {
    "name": "ipython",
    "version": 3
   },
   "file_extension": ".py",
   "mimetype": "text/x-python",
   "name": "python",
   "nbconvert_exporter": "python",
   "pygments_lexer": "ipython3",
   "version": "3.10.13"
  }
 },
 "nbformat": 4,
 "nbformat_minor": 0
}
