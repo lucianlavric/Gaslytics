{
 "cells": [
  {
   "cell_type": "markdown",
   "metadata": {
    "id": "yMOpOuAtwwFo"
   },
   "source": [
    "<table align=\"left\">\n",
    "  <td>\n",
    "    <a target=\"_blank\" href=\"https://colab.research.google.com/github/twelvelabs-io/twelvelabs-developer-experience/blob/main/quickstarts/TwelveLabs_Quickstart_Search.ipynb\"><img src=\"https://www.tensorflow.org/images/colab_logo_32px.png\" />Run in  Colab</a>\n",
    "  </td>\n",
    "</table>"
   ]
  },
  {
   "cell_type": "markdown",
   "metadata": {
    "id": "VmpYRcFNT30r"
   },
   "source": [
    "# Search\n",
    "This guide shows how to utilize the TwelveLabs Python SDK for searching within your video content."
   ]
  },
  {
   "cell_type": "markdown",
   "metadata": {},
   "source": [
    "# Prerequisites\n",
    "Before you begin, ensure the following prerequisites are met:\n",
    "\n",
    "- [Sign up](https://playground.twelvelabs.io/) for a free account and obtain your API key from the [API Key](https://playground.twelvelabs.io/dashboard/api-key) page. No credit card is required to use the Free plan. This plan allows you to index up to 600 minutes of videos, which is sufficient for a small project. \n",
    "- The videos you wish to upload must meet the requirements in the [Prerequisites](https://docs.twelvelabs.io/v1.3/docs/guides/search#prerequisites) section of the **Search** page.\n",
    "\n"
   ]
  },
  {
   "cell_type": "markdown",
   "metadata": {},
   "source": [
    "# Procedure"
   ]
  },
  {
   "cell_type": "markdown",
   "metadata": {},
   "source": [
    "## Install the TwelveLabs Python SDK"
   ]
  },
  {
   "cell_type": "code",
   "execution_count": null,
   "metadata": {},
   "outputs": [],
   "source": [
    "%pip install -U -q twelvelabs"
   ]
  },
  {
   "cell_type": "markdown",
   "metadata": {},
   "source": [
    "## Import the required packages"
   ]
  },
  {
   "cell_type": "code",
   "execution_count": 5,
   "metadata": {},
   "outputs": [],
   "source": [
    "import os\n",
    "from glob import glob\n",
    "from twelvelabs import TwelveLabs\n",
    "from twelvelabs.models.task import Task"
   ]
  },
  {
   "cell_type": "markdown",
   "metadata": {},
   "source": [
    "## Configure your API key\n"
   ]
  },
  {
   "cell_type": "code",
   "execution_count": null,
   "metadata": {},
   "outputs": [],
   "source": [
    "# For Google Colab, store your API key as a Secret named `TL_API_KEY`. If you don't know how to create a Colab Secret, see https://medium.com/@parthdasawant/how-to-use-secrets-in-google-colab-450c38e3ec75.\n",
    "\n",
    "from google.colab import userdata\n",
    "TL_API_KEY = userdata.get('TL_API_KEY')\n",
    "\n",
    "# For other Python environments, you can use environment variables\n",
    "# TL_API_KEY = os.environ.get('TL_API_KEY')"
   ]
  },
  {
   "cell_type": "markdown",
   "metadata": {},
   "source": [
    "## Create an index\n",
    "\n",
    "An index is a basic unit for organizing and storing video data consisting of video embeddings and metadata. Indexes facilitate information retrieval and processing.\n",
    "\n",
    "When creating a new index, you must specify at least the following information:\n",
    "- **Name**: Use a brief and descriptive name to facilitate future reference and management.\n",
    "- **Model configuration**: Provide a list containing the video understanding models and the associated model options you want to enable.\n",
    "\n",
    "TwelveLabs provides two distinct model types:\n",
    "\n",
    "- **Embedding models (Marengo)**: This model performs tasks such as search and embedding generation , enabling enhanced video understanding.\n",
    "- **Generative models (Pegasus)**: This model generates text based on your videos.\n",
    "\n",
    "Model options determine what information the video understanding model will process:\n",
    "- **visual**: Analyzes visual content, including actions, objects, events, text (OCR), and brand logos.\n",
    "- **audio**: Analyzes audio content, including ambient sounds and human speech."
   ]
  },
  {
   "cell_type": "code",
   "execution_count": 12,
   "metadata": {},
   "outputs": [
    {
     "name": "stdout",
     "output_type": "stream",
     "text": [
      "Created index: id=67c836599d39a8522d5950e6 name=Temp-1 models=root=[Model(name='marengo2.7', options=['visual', 'audio'], addons=None, finetuned=False)]\n"
     ]
    }
   ],
   "source": [
    "client = TwelveLabs(api_key=TL_API_KEY)\n",
    "\n",
    "index = client.index.create(\n",
    "    name=\"Temp-1\",\n",
    "    models=[\n",
    "        {\n",
    "            \"name\": \"marengo2.7\",\n",
    "            \"options\": [\"visual\", \"audio\"],\n",
    "        }\n",
    "    ]\n",
    ")\n",
    "print(f\"Created index: id={index.id} name={index.name} models={index.models}\")\n"
   ]
  },
  {
   "cell_type": "markdown",
   "metadata": {},
   "source": [
    "## Upload videos to your index"
   ]
  },
  {
   "cell_type": "code",
   "execution_count": 13,
   "metadata": {},
   "outputs": [
    {
     "name": "stdout",
     "output_type": "stream",
     "text": [
      "Uploading funny-cats.mp4\n",
      "Created task: id=67c836dbd4e0d626915c0d05\n",
      "  Status=indexing\n",
      "  Status=ready\n",
      "Uploaded funny-cats.mp4. The unique identifer of your video is 67c836dbaee89d69a9c6a096.\n"
     ]
    }
   ],
   "source": [
    "# The path to the directory containing the videos you wish to upload.\n",
    "VIDEO_PATH = \"funny-cats.mp4\"  # In a colab Notebook, just upload the file in the root folder and just give the filename.\n",
    "\n",
    "video_files = glob(VIDEO_PATH)\n",
    "if(len(video_files)==0):\n",
    "  raise Exception(\"Video file was not provided\")\n",
    "for video_file in video_files:\n",
    "  print(f\"Uploading {video_file}\")\n",
    "  task = client.task.create(index_id=index.id, file=video_file)\n",
    "  print(f\"Created task: id={task.id}\")\n",
    "\n",
    "  # (Optional) Monitor the video indexing process\n",
    "  # Utility function to print the status of a video indexing task\n",
    "  def on_task_update(task: Task):\n",
    "          print(f\"  Status={task.status}\")\n",
    "  task.wait_for_done(sleep_interval=50, callback=on_task_update)\n",
    "  if task.status != \"ready\":\n",
    "      raise RuntimeError(f\"Indexing failed with status {task.status}\")\n",
    "  print(f\"Uploaded {video_file}. The unique identifer of your video is {task.video_id}.\")\n"
   ]
  },
  {
   "cell_type": "markdown",
   "metadata": {},
   "source": [
    "## Perform searches"
   ]
  },
  {
   "cell_type": "markdown",
   "metadata": {},
   "source": [
    "**Using text queries**:"
   ]
  },
  {
   "cell_type": "code",
   "execution_count": 19,
   "metadata": {},
   "outputs": [
    {
     "name": "stdout",
     "output_type": "stream",
     "text": [
      " video_id=67c836dbaee89d69a9c6a096 score=84.76 start=562.533327708 end=575.633327577 confidence=high\n",
      " video_id=67c836dbaee89d69a9c6a096 score=84.7 start=15.133333182 end=37.466666292 confidence=high\n",
      " video_id=67c836dbaee89d69a9c6a096 score=84.67 start=541.33332792 end=547.66666119 confidence=high\n",
      " video_id=67c836dbaee89d69a9c6a096 score=84.66 start=218.499997815 end=232.933331004 confidence=high\n",
      " video_id=67c836dbaee89d69a9c6a096 score=84.66 start=380.783329525 end=407.499995925 confidence=high\n",
      " video_id=67c836dbaee89d69a9c6a096 score=84.64 start=181.499998185 end=197.399998026 confidence=high\n",
      " video_id=67c836dbaee89d69a9c6a096 score=84.64 start=441.799995582 end=447.066662196 confidence=high\n",
      " video_id=67c836dbaee89d69a9c6a096 score=84.6 start=53.66666613 end=59.233332741 confidence=high\n",
      " video_id=67c836dbaee89d69a9c6a096 score=84.59 start=75.466665912 end=90.366665763 confidence=high\n",
      " video_id=67c836dbaee89d69a9c6a096 score=84.59 start=339.433329939 end=362.933329704 confidence=high\n",
      " video_id=67c836dbaee89d69a9c6a096 score=84.57 start=452.366662143 end=473.733328596 confidence=high\n",
      " video_id=67c836dbaee89d69a9c6a096 score=84.57 start=498.833328345 end=515.544439289 confidence=high\n",
      " video_id=67c836dbaee89d69a9c6a096 score=84.56 start=286.766663799 end=317.499996825 confidence=high\n",
      " video_id=67c836dbaee89d69a9c6a096 score=84.55 start=0.0 end=15.099999849 confidence=high\n",
      " video_id=67c836dbaee89d69a9c6a096 score=84.54 start=131.233332021 end=157.249998427 confidence=high\n",
      " video_id=67c836dbaee89d69a9c6a096 score=84.53 start=98.499999015 end=110.266665564 confidence=high\n",
      " video_id=67c836dbaee89d69a9c6a096 score=84.49 start=232.933331004 end=254.033330793 confidence=high\n",
      " video_id=67c836dbaee89d69a9c6a096 score=84.46 start=59.233332741 end=75.433332579 confidence=high\n",
      " video_id=67c836dbaee89d69a9c6a096 score=84.46 start=581.099994189 end=605.0 confidence=high\n",
      " video_id=67c836dbaee89d69a9c6a096 score=84.44 start=163.833331695 end=172.699998273 confidence=high\n",
      " video_id=67c836dbaee89d69a9c6a096 score=84.42 start=197.399998026 end=218.466664482 confidence=high\n",
      " video_id=67c836dbaee89d69a9c6a096 score=84.41 start=515.544439289 end=541.299994587 confidence=high\n",
      " video_id=67c836dbaee89d69a9c6a096 score=84.37 start=254.066664126 end=270.399997296 confidence=high\n",
      " video_id=67c836dbaee89d69a9c6a096 score=84.35 start=323.933330094 end=339.399996606 confidence=high\n",
      " video_id=67c836dbaee89d69a9c6a096 score=84.34 start=447.066662196 end=452.33332881 confidence=high\n",
      " video_id=67c836dbaee89d69a9c6a096 score=84.33 start=37.499999625 end=53.633332797 confidence=high\n",
      " video_id=67c836dbaee89d69a9c6a096 score=84.33 start=547.699994523 end=562.499994375 confidence=high\n",
      " video_id=67c836dbaee89d69a9c6a096 score=84.27 start=110.299998897 end=118.566665481 confidence=high\n",
      " video_id=67c836dbaee89d69a9c6a096 score=84.26 start=407.499995925 end=441.766662249 confidence=high\n",
      " video_id=67c836dbaee89d69a9c6a096 score=84.26 start=473.766661929 end=491.016661756 confidence=high\n",
      " video_id=67c836dbaee89d69a9c6a096 score=84.25 start=362.966663037 end=380.783329525 confidence=high\n",
      " video_id=67c836dbaee89d69a9c6a096 score=84.21 start=575.633327577 end=581.066660856 confidence=high\n",
      " video_id=67c836dbaee89d69a9c6a096 score=84.19 start=270.399997296 end=286.733330466 confidence=high\n",
      " video_id=67c836dbaee89d69a9c6a096 score=84.17 start=90.399999096 end=98.466665682 confidence=high\n",
      " video_id=67c836dbaee89d69a9c6a096 score=84.14 start=157.249998427 end=163.799998362 confidence=high\n",
      " video_id=67c836dbaee89d69a9c6a096 score=84.13 start=172.733331606 end=181.466664852 confidence=high\n",
      " video_id=67c836dbaee89d69a9c6a096 score=84.07 start=118.599998814 end=131.199998688 confidence=high\n",
      " video_id=67c836dbaee89d69a9c6a096 score=83.94 start=317.499996825 end=323.899996761 confidence=high\n",
      " video_id=67c836dbaee89d69a9c6a096 score=83.84 start=491.016661756 end=498.799995012 confidence=high\n"
     ]
    }
   ],
   "source": [
    "# Search Query\n",
    "search_results = client.search.query(index_id=index.id, query_text=\"Cats doing funny things\", options=[\"visual\", \"audio\"])\n",
    "\n",
    "# Utility function to print a specific page\n",
    "def print_page(page):\n",
    "  for clip in page:\n",
    "    print(\n",
    "        f\" video_id={clip.video_id} score={clip.score} start={clip.start} end={clip.end} confidence={clip.confidence}\"\n",
    "    )\n",
    "print_page(search_results.data)\n",
    "while True:\n",
    "    try:\n",
    "        print_page(next(search_results))\n",
    "    except StopIteration:\n",
    "        break"
   ]
  },
  {
   "cell_type": "markdown",
   "metadata": {},
   "source": [
    "**Using image queries**"
   ]
  },
  {
   "cell_type": "code",
   "execution_count": null,
   "metadata": {},
   "outputs": [],
   "source": [
    "search_results = client.search.query(\n",
    "    index_id=index.id,\n",
    "    query_media_type=\"image\",\n",
    "    query_media_file=\"<YOUR_FILE_PATH>\", # Use query_media_url instead to provide a file from a publicly accessible URL.\n",
    "    options=[\"visual\"]\n",
    ")\n",
    "\n",
    "# Utility function to print a specific page\n",
    "def print_page(page):\n",
    "  for clip in page:\n",
    "    print(\n",
    "        f\" video_id={clip.video_id} score={clip.score} start={clip.start} end={clip.end} confidence={clip.confidence}\"\n",
    "    )\n",
    "\n",
    "print_page(search_results.data)\n",
    "\n",
    "while True:\n",
    "    try:\n",
    "        print_page(next(search_results))\n",
    "    except StopIteration:\n",
    "        break"
   ]
  },
  {
   "cell_type": "markdown",
   "metadata": {
    "id": "PQ-gihrzrsm7"
   },
   "source": []
  }
 ],
 "metadata": {
  "colab": {
   "provenance": []
  },
  "kernelspec": {
   "display_name": "3.10.13",
   "language": "python",
   "name": "python3"
  },
  "language_info": {
   "codemirror_mode": {
    "name": "ipython",
    "version": 3
   },
   "file_extension": ".py",
   "mimetype": "text/x-python",
   "name": "python",
   "nbconvert_exporter": "python",
   "pygments_lexer": "ipython3",
   "version": "3.10.13"
  }
 },
 "nbformat": 4,
 "nbformat_minor": 0
}
